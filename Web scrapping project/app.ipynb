{
 "cells": [
  {
   "cell_type": "code",
   "execution_count": 48,
   "id": "c6df7d73",
   "metadata": {},
   "outputs": [],
   "source": [
    "\n",
    "from flask_cors import CORS,cross_origin\n",
    "from flask import Flask, render_template, request,jsonify\n",
    "from scrapperImage.ScrapperImage import ScrapperImage\n",
    "from businesslayer.BusinessLayerUtil import BusinessLayer\n",
    "import os"
   ]
  },
  {
   "cell_type": "code",
   "execution_count": 49,
   "id": "20e5a0d9",
   "metadata": {},
   "outputs": [
    {
     "name": "stdout",
     "output_type": "stream",
     "text": [
      "Defaulting to user installation because normal site-packages is not writeable\n",
      "Requirement already satisfied: flask_cors in c:\\users\\supratim sengupta\\appdata\\roaming\\python\\python39\\site-packages (3.0.10)\n",
      "Requirement already satisfied: Flask>=0.9 in c:\\programdata\\anaconda3_2022.10\\lib\\site-packages (from flask_cors) (1.1.2)\n",
      "Requirement already satisfied: Six in c:\\programdata\\anaconda3_2022.10\\lib\\site-packages (from flask_cors) (1.16.0)\n",
      "Requirement already satisfied: Jinja2>=2.10.1 in c:\\programdata\\anaconda3_2022.10\\lib\\site-packages (from Flask>=0.9->flask_cors) (2.11.3)\n",
      "Requirement already satisfied: click>=5.1 in c:\\programdata\\anaconda3_2022.10\\lib\\site-packages (from Flask>=0.9->flask_cors) (8.0.4)\n",
      "Requirement already satisfied: Werkzeug>=0.15 in c:\\programdata\\anaconda3_2022.10\\lib\\site-packages (from Flask>=0.9->flask_cors) (2.0.3)\n",
      "Requirement already satisfied: itsdangerous>=0.24 in c:\\programdata\\anaconda3_2022.10\\lib\\site-packages (from Flask>=0.9->flask_cors) (2.0.1)\n",
      "Requirement already satisfied: colorama in c:\\programdata\\anaconda3_2022.10\\lib\\site-packages (from click>=5.1->Flask>=0.9->flask_cors) (0.4.5)\n",
      "Requirement already satisfied: MarkupSafe>=0.23 in c:\\programdata\\anaconda3_2022.10\\lib\\site-packages (from Jinja2>=2.10.1->Flask>=0.9->flask_cors) (2.0.1)\n"
     ]
    }
   ],
   "source": [
    "!pip install flask_cors"
   ]
  },
  {
   "cell_type": "code",
   "execution_count": 39,
   "id": "2ed12892",
   "metadata": {},
   "outputs": [],
   "source": [
    "# import request\n",
    "#app = Flask(__name__) # initialising the flask app with the name 'app'"
   ]
  },
  {
   "cell_type": "code",
   "execution_count": 32,
   "id": "2f0bcf4e",
   "metadata": {},
   "outputs": [],
   "source": [
    "\n",
    "#response = 'Welcome!'"
   ]
  },
  {
   "cell_type": "code",
   "execution_count": 50,
   "id": "5703a2b7",
   "metadata": {},
   "outputs": [],
   "source": [
    "app = Flask(__name__) \n",
    "@app.route('/')  # route for redirecting to the home page\n",
    "@cross_origin()\n",
    "def home():\n",
    "    return render_template('index.html')"
   ]
  },
  {
   "cell_type": "code",
   "execution_count": 51,
   "id": "0b5b0dcc",
   "metadata": {},
   "outputs": [],
   "source": [
    "@app.route('/showImages')\n",
    "@cross_origin()\n",
    "def displayImages():\n",
    "    list_images=os.listdir('static')\n",
    "    print(list_images)\n",
    "    \n",
    "    try:\n",
    "        if(len(list_images)>0):\n",
    "            return render_template('showImage.html',user_images=list_images)\n",
    "        else:\n",
    "            return \"Images are not present\"\n",
    "    except Exception as e:\n",
    "        print(\"No images found\",e)\n",
    "        return \"Please try with a different search keyword\""
   ]
  },
  {
   "cell_type": "code",
   "execution_count": 35,
   "id": "1db5f29e",
   "metadata": {},
   "outputs": [],
   "source": [
    "@app.route('/searchImages',methods=['Get','POST'])\n",
    "def searchImage():\n",
    "    if request.method==\"POST\":\n",
    "        search_term=request.form['keyword'] # assigning the value of the input keyword to the variable keyword\n",
    "        \n",
    "    else:\n",
    "        print(\"Please enter something\")\n",
    "    \n",
    "    imagescrapperutil=BusinessLayer ## Instantiate a object for ScrapperImage Class\n",
    "    imagescrapper=ScrapperImage()\n",
    "    list_images=os.listdir('static')\n",
    "    imagescrapper.delete_downloaded_images(list_images)## Delete the old images before search\n",
    "    \n",
    "    image_name=search_term.split()\n",
    "    image_name=\"+\".join(image_name)\n",
    "    \n",
    "    ## We need to add the header metadata\n",
    "    \n",
    "    header={\n",
    "        'User-Agent':\"Mozilla/5.0 (Windows NT 10.0; Win64; x64) AppleWebKit/537.36 (KHTML, like Gecko) Chrome/79.0.3945.88 Safari/537.36\"\n",
    "            \n",
    "            }\n",
    "    lst_images=imagescrapperutil.downloadImages(search_term,header)\n",
    "    \n",
    "    return displayImages() # redirect the control to the show images method\n",
    "    "
   ]
  },
  {
   "cell_type": "code",
   "execution_count": 52,
   "id": "c276545d",
   "metadata": {},
   "outputs": [
    {
     "name": "stdout",
     "output_type": "stream",
     "text": [
      " * Serving Flask app \"__main__\" (lazy loading)\n",
      " * Environment: development\n",
      " * Debug mode: on\n"
     ]
    },
    {
     "name": "stderr",
     "output_type": "stream",
     "text": [
      " * Restarting with watchdog (windowsapi)\n"
     ]
    },
    {
     "ename": "SystemExit",
     "evalue": "1",
     "output_type": "error",
     "traceback": [
      "An exception has occurred, use %tb to see the full traceback.\n",
      "\u001b[1;31mSystemExit\u001b[0m\u001b[1;31m:\u001b[0m 1\n"
     ]
    }
   ],
   "source": [
    "if __name__ == \"__main__\":\n",
    "    app.run(host='127.0.0.1', port=8000)\n"
   ]
  },
  {
   "cell_type": "code",
   "execution_count": null,
   "id": "c1478416",
   "metadata": {},
   "outputs": [],
   "source": []
  },
  {
   "cell_type": "code",
   "execution_count": null,
   "id": "b7765755",
   "metadata": {},
   "outputs": [],
   "source": []
  }
 ],
 "metadata": {
  "kernelspec": {
   "display_name": "Python 3 (ipykernel)",
   "language": "python",
   "name": "python3"
  },
  "language_info": {
   "codemirror_mode": {
    "name": "ipython",
    "version": 3
   },
   "file_extension": ".py",
   "mimetype": "text/x-python",
   "name": "python",
   "nbconvert_exporter": "python",
   "pygments_lexer": "ipython3",
   "version": "3.9.13"
  }
 },
 "nbformat": 4,
 "nbformat_minor": 5
}
