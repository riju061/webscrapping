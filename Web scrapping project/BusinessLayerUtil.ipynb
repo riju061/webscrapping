{
 "cells": [
  {
   "cell_type": "code",
   "execution_count": 1,
   "id": "22a41d24",
   "metadata": {},
   "outputs": [],
   "source": [
    "\n",
    "# MEDIUM between the front end and the backend layer\n",
    "from scrapperImage.ScrapperImage import ScrapperImage\n"
   ]
  },
  {
   "cell_type": "code",
   "execution_count": 2,
   "id": "84e5ea1e",
   "metadata": {},
   "outputs": [],
   "source": [
    "class BusinessLayer:\n",
    "    \n",
    "    keyword=\"\"\n",
    "    fileLoc=\"\"\n",
    "    image_name=\"\"\n",
    "    header=\"\"\n",
    "     \n",
    "    def downloadImages( keyWord, header):\n",
    "        imgScrapper = ScrapperImage\n",
    "        url = imgScrapper.createImageUrl(keyWord)\n",
    "        rawHtml = imgScrapper.scrap_html_data(url, header)\n",
    "        \n",
    "        imageURLList = imgScrapper.getimageUrlList(rawHtml)\n",
    "        \n",
    "        masterListOfImages = imgScrapper.downloadImagesFromURL(imageURLList,keyWord, header)\n",
    "        \n",
    "        return masterListOfImages    \n",
    "   \n",
    "    "
   ]
  },
  {
   "cell_type": "code",
   "execution_count": null,
   "id": "f3e70324",
   "metadata": {},
   "outputs": [],
   "source": []
  }
 ],
 "metadata": {
  "kernelspec": {
   "display_name": "Python 3 (ipykernel)",
   "language": "python",
   "name": "python3"
  },
  "language_info": {
   "codemirror_mode": {
    "name": "ipython",
    "version": 3
   },
   "file_extension": ".py",
   "mimetype": "text/x-python",
   "name": "python",
   "nbconvert_exporter": "python",
   "pygments_lexer": "ipython3",
   "version": "3.9.13"
  }
 },
 "nbformat": 4,
 "nbformat_minor": 5
}
